{
 "cells": [
  {
   "cell_type": "code",
   "execution_count": 1,
   "metadata": {},
   "outputs": [],
   "source": [
    "import pandas as pd\n",
    "from konlpy.tag import Kkma\n",
    "from konlpy.utils import pprint\n",
    "from tqdm import tqdm_notebook"
   ]
  },
  {
   "cell_type": "code",
   "execution_count": 15,
   "metadata": {},
   "outputs": [],
   "source": [
    "roaddog = pd.read_csv('./roaddog_data.csv')"
   ]
  },
  {
   "cell_type": "code",
   "execution_count": 5,
   "metadata": {
    "scrolled": true
   },
   "outputs": [
    {
     "data": {
      "text/plain": [
       "Index(['COLOR', 'KIND_NM', 'AGE', 'WEIGHT', 'NEUTER_YN', 'PROCESS_STATE',\n",
       "       'HAPPEN_DT', 'HAPPEN_PLACE', 'SPECIAL_MARK', 'PROFILE'],\n",
       "      dtype='object')"
      ]
     },
     "execution_count": 5,
     "metadata": {},
     "output_type": "execute_result"
    }
   ],
   "source": [
    "roaddog.columns"
   ]
  },
  {
   "cell_type": "code",
   "execution_count": 16,
   "metadata": {},
   "outputs": [
    {
     "data": {
      "text/html": [
       "<div>\n",
       "<style scoped>\n",
       "    .dataframe tbody tr th:only-of-type {\n",
       "        vertical-align: middle;\n",
       "    }\n",
       "\n",
       "    .dataframe tbody tr th {\n",
       "        vertical-align: top;\n",
       "    }\n",
       "\n",
       "    .dataframe thead th {\n",
       "        text-align: right;\n",
       "    }\n",
       "</style>\n",
       "<table border=\"1\" class=\"dataframe\">\n",
       "  <thead>\n",
       "    <tr style=\"text-align: right;\">\n",
       "      <th></th>\n",
       "      <th>DESERTION_NO</th>\n",
       "      <th>COLOR</th>\n",
       "      <th>KIND_NM</th>\n",
       "      <th>AGE</th>\n",
       "      <th>WEIGHT</th>\n",
       "      <th>NEUTER_YN</th>\n",
       "      <th>PROCESS_STATE</th>\n",
       "      <th>HAPPEN_DT</th>\n",
       "      <th>HAPPEN_PLACE</th>\n",
       "      <th>SPECIAL_MARK</th>\n",
       "      <th>PROFILE</th>\n",
       "    </tr>\n",
       "  </thead>\n",
       "  <tbody>\n",
       "    <tr>\n",
       "      <th>0</th>\n",
       "      <td>4.506500e+14</td>\n",
       "      <td>갈색</td>\n",
       "      <td>믹스견</td>\n",
       "      <td>2022</td>\n",
       "      <td>5.9</td>\n",
       "      <td>N</td>\n",
       "      <td>보호중</td>\n",
       "      <td>20221025</td>\n",
       "      <td>제주시 조천읍 곱은달 국밥인근</td>\n",
       "      <td>개체관리번호 3460 - 10개월/경계심</td>\n",
       "      <td>http://www.animal.go.kr/files/shelter/2022/10/...</td>\n",
       "    </tr>\n",
       "    <tr>\n",
       "      <th>1</th>\n",
       "      <td>4.506500e+14</td>\n",
       "      <td>갈색</td>\n",
       "      <td>믹스견</td>\n",
       "      <td>2022</td>\n",
       "      <td>11.7</td>\n",
       "      <td>N</td>\n",
       "      <td>보호중</td>\n",
       "      <td>20221025</td>\n",
       "      <td>제주시 조천읍 곱은달 국밥인근</td>\n",
       "      <td>개체관리번호 3459 - 10개월/경계심</td>\n",
       "      <td>http://www.animal.go.kr/files/shelter/2022/10/...</td>\n",
       "    </tr>\n",
       "    <tr>\n",
       "      <th>2</th>\n",
       "      <td>4.506500e+14</td>\n",
       "      <td>브린들</td>\n",
       "      <td>믹스견</td>\n",
       "      <td>2020</td>\n",
       "      <td>15.0</td>\n",
       "      <td>U</td>\n",
       "      <td>보호중</td>\n",
       "      <td>20221025</td>\n",
       "      <td>제주시 오등동 1055-1</td>\n",
       "      <td>개체관리번호 3458</td>\n",
       "      <td>http://www.animal.go.kr/files/shelter/2022/10/...</td>\n",
       "    </tr>\n",
       "    <tr>\n",
       "      <th>3</th>\n",
       "      <td>4.506500e+14</td>\n",
       "      <td>갈색</td>\n",
       "      <td>믹스견</td>\n",
       "      <td>2022</td>\n",
       "      <td>4.5</td>\n",
       "      <td>N</td>\n",
       "      <td>보호중</td>\n",
       "      <td>20221025</td>\n",
       "      <td>제주시 한림읍 금능농공단지</td>\n",
       "      <td>개체관리번호 3457 - 3개월</td>\n",
       "      <td>http://www.animal.go.kr/files/shelter/2022/10/...</td>\n",
       "    </tr>\n",
       "    <tr>\n",
       "      <th>4</th>\n",
       "      <td>4.506500e+14</td>\n",
       "      <td>갈색</td>\n",
       "      <td>믹스견</td>\n",
       "      <td>2022</td>\n",
       "      <td>5.0</td>\n",
       "      <td>N</td>\n",
       "      <td>보호중</td>\n",
       "      <td>20221025</td>\n",
       "      <td>제주시 한림읍 금능농공단지</td>\n",
       "      <td>개체관리번호 3456 - 3개월</td>\n",
       "      <td>http://www.animal.go.kr/files/shelter/2022/10/...</td>\n",
       "    </tr>\n",
       "    <tr>\n",
       "      <th>...</th>\n",
       "      <td>...</td>\n",
       "      <td>...</td>\n",
       "      <td>...</td>\n",
       "      <td>...</td>\n",
       "      <td>...</td>\n",
       "      <td>...</td>\n",
       "      <td>...</td>\n",
       "      <td>...</td>\n",
       "      <td>...</td>\n",
       "      <td>...</td>\n",
       "      <td>...</td>\n",
       "    </tr>\n",
       "    <tr>\n",
       "      <th>80436</th>\n",
       "      <td>4.293620e+14</td>\n",
       "      <td>갈,흰</td>\n",
       "      <td>믹스견</td>\n",
       "      <td>2018</td>\n",
       "      <td>9.2</td>\n",
       "      <td>U</td>\n",
       "      <td>종료(자연사)</td>\n",
       "      <td>20211029</td>\n",
       "      <td>북구 양산동</td>\n",
       "      <td>21-1270 산이, 임신추정</td>\n",
       "      <td>http://www.animal.go.kr/files/shelter/2021/10/...</td>\n",
       "    </tr>\n",
       "    <tr>\n",
       "      <th>80437</th>\n",
       "      <td>4.293600e+14</td>\n",
       "      <td>갈,흰</td>\n",
       "      <td>치와와</td>\n",
       "      <td>2019</td>\n",
       "      <td>3.5</td>\n",
       "      <td>U</td>\n",
       "      <td>종료(입양)</td>\n",
       "      <td>20211029</td>\n",
       "      <td>서구 화정동</td>\n",
       "      <td>21-1272 라라</td>\n",
       "      <td>http://www.animal.go.kr/files/shelter/2021/10/...</td>\n",
       "    </tr>\n",
       "    <tr>\n",
       "      <th>80438</th>\n",
       "      <td>4.293600e+14</td>\n",
       "      <td>흰</td>\n",
       "      <td>믹스견</td>\n",
       "      <td>2018</td>\n",
       "      <td>15.0</td>\n",
       "      <td>U</td>\n",
       "      <td>종료(입양)</td>\n",
       "      <td>20211029</td>\n",
       "      <td>서구 풍암동</td>\n",
       "      <td>21-1269, 목줄착용(빨간)</td>\n",
       "      <td>http://www.animal.go.kr/files/shelter/2021/10/...</td>\n",
       "    </tr>\n",
       "    <tr>\n",
       "      <th>80439</th>\n",
       "      <td>4.263370e+14</td>\n",
       "      <td>황색</td>\n",
       "      <td>진도견</td>\n",
       "      <td>2020</td>\n",
       "      <td>12.0</td>\n",
       "      <td>N</td>\n",
       "      <td>종료(안락사)</td>\n",
       "      <td>20211029</td>\n",
       "      <td>중앙천로 2</td>\n",
       "      <td>쇠약(민감)</td>\n",
       "      <td>http://www.animal.go.kr/files/shelter/2021/10/...</td>\n",
       "    </tr>\n",
       "    <tr>\n",
       "      <th>80440</th>\n",
       "      <td>4.113140e+14</td>\n",
       "      <td>흰/검정</td>\n",
       "      <td>믹스견</td>\n",
       "      <td>2018</td>\n",
       "      <td>4.0</td>\n",
       "      <td>N</td>\n",
       "      <td>종료(입양)</td>\n",
       "      <td>20211029</td>\n",
       "      <td>목동목동아파트6단지 (다음10-25)</td>\n",
       "      <td>치석있으며미용하지않은상태이고온순하며잘따르나겁이많으나조용한편임</td>\n",
       "      <td>http://www.animal.go.kr/files/shelter/2021/10/...</td>\n",
       "    </tr>\n",
       "  </tbody>\n",
       "</table>\n",
       "<p>80441 rows × 11 columns</p>\n",
       "</div>"
      ],
      "text/plain": [
       "       DESERTION_NO COLOR KIND_NM   AGE  WEIGHT NEUTER_YN PROCESS_STATE  \\\n",
       "0      4.506500e+14    갈색     믹스견  2022     5.9         N           보호중   \n",
       "1      4.506500e+14    갈색     믹스견  2022    11.7         N           보호중   \n",
       "2      4.506500e+14   브린들     믹스견  2020    15.0         U           보호중   \n",
       "3      4.506500e+14    갈색     믹스견  2022     4.5         N           보호중   \n",
       "4      4.506500e+14    갈색     믹스견  2022     5.0         N           보호중   \n",
       "...             ...   ...     ...   ...     ...       ...           ...   \n",
       "80436  4.293620e+14   갈,흰     믹스견  2018     9.2         U       종료(자연사)   \n",
       "80437  4.293600e+14   갈,흰     치와와  2019     3.5         U        종료(입양)   \n",
       "80438  4.293600e+14     흰     믹스견  2018    15.0         U        종료(입양)   \n",
       "80439  4.263370e+14    황색     진도견  2020    12.0         N       종료(안락사)   \n",
       "80440  4.113140e+14  흰/검정     믹스견  2018     4.0         N        종료(입양)   \n",
       "\n",
       "       HAPPEN_DT          HAPPEN_PLACE                       SPECIAL_MARK  \\\n",
       "0       20221025      제주시 조천읍 곱은달 국밥인근             개체관리번호 3460 - 10개월/경계심   \n",
       "1       20221025      제주시 조천읍 곱은달 국밥인근             개체관리번호 3459 - 10개월/경계심   \n",
       "2       20221025        제주시 오등동 1055-1                       개체관리번호 3458    \n",
       "3       20221025        제주시 한림읍 금능농공단지                  개체관리번호 3457 - 3개월   \n",
       "4       20221025        제주시 한림읍 금능농공단지                  개체관리번호 3456 - 3개월   \n",
       "...          ...                   ...                                ...   \n",
       "80436   20211029                북구 양산동                   21-1270 산이, 임신추정   \n",
       "80437   20211029                서구 화정동                         21-1272 라라   \n",
       "80438   20211029                서구 풍암동                  21-1269, 목줄착용(빨간)   \n",
       "80439   20211029                중앙천로 2                             쇠약(민감)   \n",
       "80440   20211029  목동목동아파트6단지 (다음10-25)  치석있으며미용하지않은상태이고온순하며잘따르나겁이많으나조용한편임   \n",
       "\n",
       "                                                 PROFILE  \n",
       "0      http://www.animal.go.kr/files/shelter/2022/10/...  \n",
       "1      http://www.animal.go.kr/files/shelter/2022/10/...  \n",
       "2      http://www.animal.go.kr/files/shelter/2022/10/...  \n",
       "3      http://www.animal.go.kr/files/shelter/2022/10/...  \n",
       "4      http://www.animal.go.kr/files/shelter/2022/10/...  \n",
       "...                                                  ...  \n",
       "80436  http://www.animal.go.kr/files/shelter/2021/10/...  \n",
       "80437  http://www.animal.go.kr/files/shelter/2021/10/...  \n",
       "80438  http://www.animal.go.kr/files/shelter/2021/10/...  \n",
       "80439  http://www.animal.go.kr/files/shelter/2021/10/...  \n",
       "80440  http://www.animal.go.kr/files/shelter/2021/10/...  \n",
       "\n",
       "[80441 rows x 11 columns]"
      ]
     },
     "execution_count": 16,
     "metadata": {},
     "output_type": "execute_result"
    }
   ],
   "source": [
    "roaddog"
   ]
  },
  {
   "cell_type": "code",
   "execution_count": 18,
   "metadata": {},
   "outputs": [
    {
     "data": {
      "text/plain": [
       "'개체관리번호 3460 - 10개월/경계심'"
      ]
     },
     "execution_count": 18,
     "metadata": {},
     "output_type": "execute_result"
    }
   ],
   "source": [
    "roaddog['SPECIAL_MARK'][0]"
   ]
  },
  {
   "cell_type": "code",
   "execution_count": 8,
   "metadata": {},
   "outputs": [],
   "source": [
    "kkma = Kkma()"
   ]
  },
  {
   "cell_type": "code",
   "execution_count": 20,
   "metadata": {},
   "outputs": [
    {
     "name": "stderr",
     "output_type": "stream",
     "text": [
      "<ipython-input-20-e1e1f5b87565>:3: TqdmDeprecationWarning: This function will be removed in tqdm==5.0.0\n",
      "Please use `tqdm.notebook.tqdm` instead of `tqdm.tqdm_notebook`\n",
      "  for i in tqdm_notebook(range(len(roaddog))):\n"
     ]
    },
    {
     "data": {
      "application/vnd.jupyter.widget-view+json": {
       "model_id": "45e258901a2f48b9aa9e170e55ddda14",
       "version_major": 2,
       "version_minor": 0
      },
      "text/plain": [
       "HBox(children=(FloatProgress(value=0.0, max=80441.0), HTML(value='')))"
      ]
     },
     "metadata": {},
     "output_type": "display_data"
    },
    {
     "name": "stdout",
     "output_type": "stream",
     "text": [
      "\n"
     ]
    }
   ],
   "source": [
    "special_list = []\n",
    "\n",
    "for i in tqdm_notebook(range(len(roaddog))):\n",
    "    if roaddog['SPECIAL_MARK'][i].replace(' ','') == '':\n",
    "        special_list.append('')\n",
    "    else :\n",
    "        pos_character = kkma.pos(roaddog['SPECIAL_MARK'][i])\n",
    "\n",
    "        word_list = []\n",
    "\n",
    "        for pos in pos_character:\n",
    "            if pos[1] in ['NR','NNM','XR','NNG','NNP', 'VV', 'VA', 'MAG']:\n",
    "                word_list.append(pos[0])\n",
    "                \n",
    "        word = \" \".join(word_list)\n",
    "\n",
    "        special_list.append(word)"
   ]
  },
  {
   "cell_type": "code",
   "execution_count": 21,
   "metadata": {},
   "outputs": [
    {
     "data": {
      "text/plain": [
       "80441"
      ]
     },
     "execution_count": 21,
     "metadata": {},
     "output_type": "execute_result"
    }
   ],
   "source": [
    "len(special_list)"
   ]
  },
  {
   "cell_type": "code",
   "execution_count": 27,
   "metadata": {},
   "outputs": [],
   "source": [
    "# roaddog.rename(columns = {'특징단어':'SPECIAL_WORD'}, inplace=True)"
   ]
  },
  {
   "cell_type": "code",
   "execution_count": 29,
   "metadata": {
    "scrolled": true
   },
   "outputs": [
    {
     "data": {
      "text/plain": [
       "Index(['DESERTION_NO', 'COLOR', 'KIND_NM', 'AGE', 'WEIGHT', 'NEUTER_YN',\n",
       "       'PROCESS_STATE', 'HAPPEN_DT', 'HAPPEN_PLACE', 'SPECIAL_MARK', 'PROFILE',\n",
       "       'SPECIAL_WORD'],\n",
       "      dtype='object')"
      ]
     },
     "execution_count": 29,
     "metadata": {},
     "output_type": "execute_result"
    }
   ],
   "source": [
    "roaddog['SPECIAL_WORD'] = special_list"
   ]
  },
  {
   "cell_type": "code",
   "execution_count": 31,
   "metadata": {},
   "outputs": [],
   "source": [
    "roaddog.to_csv('./roaddog_data(special_word).csv', encoding='cp949')"
   ]
  }
 ],
 "metadata": {
  "kernelspec": {
   "display_name": "Python 3",
   "language": "python",
   "name": "python3"
  },
  "language_info": {
   "codemirror_mode": {
    "name": "ipython",
    "version": 3
   },
   "file_extension": ".py",
   "mimetype": "text/x-python",
   "name": "python",
   "nbconvert_exporter": "python",
   "pygments_lexer": "ipython3",
   "version": "3.8.3"
  }
 },
 "nbformat": 4,
 "nbformat_minor": 4
}
