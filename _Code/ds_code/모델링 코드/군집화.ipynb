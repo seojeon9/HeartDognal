{
 "cells": [
  {
   "cell_type": "code",
   "execution_count": 27,
   "id": "d17d0694",
   "metadata": {},
   "outputs": [],
   "source": [
    "from sklearn.datasets import load_iris\n",
    "from sklearn.cluster import KMeans\n",
    "import matplotlib.pyplot as plt\n",
    "import numpy as np\n",
    "import pandas as pd\n",
    "import re\n",
    "from sklearn.decomposition import PCA\n",
    "from sklearn.metrics import silhouette_samples, silhouette_score"
   ]
  },
  {
   "cell_type": "code",
   "execution_count": 28,
   "id": "2a1725c7",
   "metadata": {},
   "outputs": [],
   "source": [
    "def visualize_km_silhouette(cluster_lists, X_features): \n",
    "    \n",
    "    from sklearn.datasets import make_blobs\n",
    "    from sklearn.cluster import KMeans\n",
    "    from sklearn.metrics import silhouette_samples, silhouette_score\n",
    "\n",
    "    import matplotlib.pyplot as plt\n",
    "    import matplotlib.cm as cm\n",
    "    import math\n",
    "    \n",
    "    # 입력값으로 클러스터링 갯수들을 리스트로 받아서, 각 갯수별로 클러스터링을 적용하고 실루엣 개수를 구함\n",
    "    n_cols = len(cluster_lists)\n",
    "    \n",
    "    # plt.subplots()으로 리스트에 기재된 클러스터링 수만큼의 sub figures를 가지는 axs 생성 \n",
    "    fig, axs = plt.subplots(figsize=(4*n_cols, 4), nrows=1, ncols=n_cols)\n",
    "    \n",
    "    # 리스트에 기재된 클러스터링 갯수들을 차례로 iteration 수행하면서 실루엣 개수 시각화\n",
    "    # cluster_lists에 군집의 갯수들이 저장되어 있음\n",
    "    for ind, n_cluster in enumerate(cluster_lists):\n",
    "        \n",
    "        # KMeans 클러스터링 수행하고, 실루엣 스코어와 개별 데이터의 실루엣 값 계산. \n",
    "        clusterer = KMeans(n_clusters = n_cluster, max_iter=500, random_state=0)\n",
    "        cluster_labels = clusterer.fit_predict(X_features)\n",
    "        \n",
    "        sil_avg = silhouette_score(X_features, cluster_labels) # 전체 데이터의 실루엣 계수의 평균\n",
    "        sil_values = silhouette_samples(X_features, cluster_labels) # 개별 데이터의 실루엣 계쑤\n",
    "        \n",
    "        # 그래프 그리는 코드\n",
    "        y_lower = 10\n",
    "        axs[ind].set_title('Number of Cluster : '+ str(n_cluster)+'\\n' \\\n",
    "                          'Silhouette Score :' + str(round(sil_avg,3)) )\n",
    "        axs[ind].set_xlabel(\"The silhouette coefficient values\")\n",
    "        axs[ind].set_ylabel(\"Cluster label\")\n",
    "        axs[ind].set_xlim([-0.1, 1])\n",
    "        axs[ind].set_ylim([0, len(X_features) + (n_cluster + 1) * 10])\n",
    "        axs[ind].set_yticks([])  # Clear the yaxis labels / ticks\n",
    "        axs[ind].set_xticks([0, 0.2, 0.4, 0.6, 0.8, 1])\n",
    "        \n",
    "        # 클러스터링 갯수별로 fill_betweenx( )형태의 막대 그래프 표현. \n",
    "        for i in range(n_cluster):\n",
    "            ith_cluster_sil_values = sil_values[cluster_labels==i]\n",
    "            ith_cluster_sil_values.sort()\n",
    "            \n",
    "            size_cluster_i = ith_cluster_sil_values.shape[0]\n",
    "            y_upper = y_lower + size_cluster_i\n",
    "            \n",
    "            color = cm.nipy_spectral(float(i) / n_cluster)\n",
    "            axs[ind].fill_betweenx(np.arange(y_lower, y_upper), 0, ith_cluster_sil_values, \\\n",
    "                                facecolor=color, edgecolor=color, alpha=0.7)\n",
    "            axs[ind].text(-0.05, y_lower + 0.5 * size_cluster_i, str(i))\n",
    "            y_lower = y_upper + 10\n",
    "            \n",
    "        axs[ind].axvline(x=sil_avg, color=\"red\", linestyle=\"--\")"
   ]
  },
  {
   "cell_type": "code",
   "execution_count": 29,
   "id": "d243a221",
   "metadata": {},
   "outputs": [],
   "source": [
    "from sklearn.preprocessing import MinMaxScaler\n",
    "minmaxscaler = MinMaxScaler()"
   ]
  },
  {
   "cell_type": "code",
   "execution_count": 4,
   "id": "1d63a078",
   "metadata": {},
   "outputs": [],
   "source": [
    "dog = pd.read_csv('../data/정리/강아지(221028).csv')"
   ]
  },
  {
   "cell_type": "code",
   "execution_count": 5,
   "id": "d9d302ac",
   "metadata": {},
   "outputs": [
    {
     "name": "stdout",
     "output_type": "stream",
     "text": [
      "<class 'pandas.core.frame.DataFrame'>\n",
      "RangeIndex: 4183 entries, 0 to 4182\n",
      "Data columns (total 78 columns):\n",
      " #   Column         Non-Null Count  Dtype  \n",
      "---  ------         --------------  -----  \n",
      " 0   level_0        4183 non-null   int64  \n",
      " 1   index          4183 non-null   int64  \n",
      " 2   유기번호           4183 non-null   int64  \n",
      " 3   썸네일            4183 non-null   object \n",
      " 4   접수일            4183 non-null   int64  \n",
      " 5   발견장소           4183 non-null   object \n",
      " 6   품종_x           4183 non-null   object \n",
      " 7   색상_x           4183 non-null   object \n",
      " 8   나이             4183 non-null   object \n",
      " 9   체중_x           4183 non-null   object \n",
      " 10  공고번호           4183 non-null   object \n",
      " 11  공고시작일          4183 non-null   int64  \n",
      " 12  공고종료일          4183 non-null   int64  \n",
      " 13  이미지            4183 non-null   object \n",
      " 14  성별             4183 non-null   object \n",
      " 15  중성화여부          4183 non-null   object \n",
      " 16  특징             4183 non-null   object \n",
      " 17  보호소이름          4183 non-null   object \n",
      " 18  보호소전화번호        4183 non-null   object \n",
      " 19  보호장소           4183 non-null   object \n",
      " 20  관할기관           4183 non-null   object \n",
      " 21  담당자            4183 non-null   object \n",
      " 22  담당자연락처         4183 non-null   object \n",
      " 23  특이사항           4183 non-null   object \n",
      " 24  상태             4183 non-null   object \n",
      " 25  x              4183 non-null   object \n",
      " 26  y              4183 non-null   object \n",
      " 27  품종_축종제외        4183 non-null   object \n",
      " 28  Unnamed: 0     743 non-null    float64\n",
      " 29  품종_y           743 non-null    object \n",
      " 30  원산지            743 non-null    object \n",
      " 31  체고             743 non-null    object \n",
      " 32  체중_y           743 non-null    object \n",
      " 33  크기             743 non-null    object \n",
      " 34  외모             743 non-null    object \n",
      " 35  성격             743 non-null    object \n",
      " 36  추천성향           743 non-null    object \n",
      " 37  주요유의질병         582 non-null    object \n",
      " 38  색상_y           743 non-null    object \n",
      " 39  그룹구분           743 non-null    object \n",
      " 40  친화성            743 non-null    object \n",
      " 41  털빠짐            742 non-null    object \n",
      " 42  집지키기           743 non-null    object \n",
      " 43  실내외구분          743 non-null    object \n",
      " 44  성격단어           743 non-null    object \n",
      " 45  건강             4183 non-null   object \n",
      " 46  친화성+           4183 non-null   object \n",
      " 47  친화성-           4183 non-null   object \n",
      " 48  친화성+강조         4183 non-null   object \n",
      " 49  친화성-강조         4183 non-null   object \n",
      " 50  api_친화성        4183 non-null   int64  \n",
      " 51  api_건강점수       4183 non-null   int64  \n",
      " 52  친화성_score      4183 non-null   float64\n",
      " 53  1년미만           4183 non-null   object \n",
      " 54  출생연도           4183 non-null   int64  \n",
      " 55  만나이            4183 non-null   int64  \n",
      " 56  1년미만_주환산       4183 non-null   object \n",
      " 57  1년이상_주환산       4183 non-null   int64  \n",
      " 58  나이_주환산         4183 non-null   float64\n",
      " 59  체중_숫자          4183 non-null   float64\n",
      " 60  털빠짐_score      4183 non-null   int64  \n",
      " 61  집지키기_score     4183 non-null   int64  \n",
      " 62  운동량            4183 non-null   int64  \n",
      " 63  주택유형           4183 non-null   object \n",
      " 64  단독주택           4183 non-null   int64  \n",
      " 65  단독주택/전원주택      4183 non-null   int64  \n",
      " 66  아파트/단독주택/전원주택  4183 non-null   int64  \n",
      " 67  추천연령대          4183 non-null   object \n",
      " 68  어린이            4183 non-null   int64  \n",
      " 69  어린이/젊은층/노년층    4183 non-null   int64  \n",
      " 70  젊은층            4183 non-null   int64  \n",
      " 71  젊은층/노년층        4183 non-null   int64  \n",
      " 72  F              4183 non-null   int64  \n",
      " 73  M              4183 non-null   int64  \n",
      " 74  Q              4183 non-null   int64  \n",
      " 75  N              4183 non-null   int64  \n",
      " 76  U              4183 non-null   int64  \n",
      " 77  Y              4183 non-null   int64  \n",
      "dtypes: float64(4), int64(27), object(47)\n",
      "memory usage: 2.5+ MB\n"
     ]
    }
   ],
   "source": [
    "dog.info()"
   ]
  },
  {
   "cell_type": "code",
   "execution_count": 6,
   "id": "f94f08a4",
   "metadata": {},
   "outputs": [],
   "source": [
    "feature = dog[['체중_숫자']]\n",
    "\n",
    "kmeans = KMeans(n_clusters=3, init='k-means++', max_iter=300, random_state=0).fit(feature)\n",
    "\n",
    "dog['체중_군집'] = kmeans.labels_"
   ]
  },
  {
   "cell_type": "code",
   "execution_count": 7,
   "id": "da1e7d9c",
   "metadata": {},
   "outputs": [
    {
     "data": {
      "text/plain": [
       "체중_군집\n",
       "0    11.854529\n",
       "1     3.472964\n",
       "2    22.699612\n",
       "Name: 체중_숫자, dtype: float64"
      ]
     },
     "execution_count": 7,
     "metadata": {},
     "output_type": "execute_result"
    }
   ],
   "source": [
    "dog.groupby('체중_군집')['체중_숫자'].mean()"
   ]
  },
  {
   "cell_type": "code",
   "execution_count": 8,
   "id": "bb72bbb0",
   "metadata": {},
   "outputs": [
    {
     "data": {
      "text/plain": [
       "{0: 1, 1: 0, 2: 2}"
      ]
     },
     "execution_count": 8,
     "metadata": {},
     "output_type": "execute_result"
    }
   ],
   "source": [
    "dict(dog.groupby('체중_군집')['체중_숫자'].mean().argsort())"
   ]
  },
  {
   "cell_type": "code",
   "execution_count": 9,
   "id": "18d45896",
   "metadata": {},
   "outputs": [],
   "source": [
    "dog=dog.replace({'체중_군집':dict(dog.groupby('체중_군집')['체중_숫자'].mean().argsort())})"
   ]
  },
  {
   "cell_type": "code",
   "execution_count": 10,
   "id": "80719ea4",
   "metadata": {},
   "outputs": [
    {
     "data": {
      "text/plain": [
       "0    2802\n",
       "1    1020\n",
       "2     361\n",
       "Name: 체중_군집, dtype: int64"
      ]
     },
     "execution_count": 10,
     "metadata": {},
     "output_type": "execute_result"
    }
   ],
   "source": [
    "dog['체중_군집'].value_counts()"
   ]
  },
  {
   "cell_type": "code",
   "execution_count": 11,
   "id": "f32b5924",
   "metadata": {},
   "outputs": [],
   "source": [
    "feature = dog[['나이_주환산']]\n",
    "\n",
    "kmeans = KMeans(n_clusters=3, init='k-means++', max_iter=300, random_state=0).fit(feature)\n",
    "\n",
    "dog['나이_군집'] = kmeans.labels_"
   ]
  },
  {
   "cell_type": "code",
   "execution_count": 12,
   "id": "7a419a36",
   "metadata": {},
   "outputs": [
    {
     "data": {
      "text/plain": [
       "나이_군집\n",
       "0     26.738570\n",
       "1    156.931034\n",
       "2    408.460967\n",
       "Name: 나이_주환산, dtype: float64"
      ]
     },
     "execution_count": 12,
     "metadata": {},
     "output_type": "execute_result"
    }
   ],
   "source": [
    "dog.groupby('나이_군집')['나이_주환산'].mean()"
   ]
  },
  {
   "cell_type": "code",
   "execution_count": 13,
   "id": "a42a18aa",
   "metadata": {},
   "outputs": [],
   "source": [
    "dog=dog.replace({'나이_군집':dict(dog.groupby('나이_군집')['나이_주환산'].mean().argsort())})"
   ]
  },
  {
   "cell_type": "code",
   "execution_count": 14,
   "id": "e2298a18",
   "metadata": {},
   "outputs": [
    {
     "data": {
      "text/plain": [
       "0    2406\n",
       "1    1508\n",
       "2     269\n",
       "Name: 나이_군집, dtype: int64"
      ]
     },
     "execution_count": 14,
     "metadata": {},
     "output_type": "execute_result"
    }
   ],
   "source": [
    "dog['나이_군집'].value_counts()"
   ]
  },
  {
   "cell_type": "code",
   "execution_count": 15,
   "id": "41b7f9b7",
   "metadata": {},
   "outputs": [],
   "source": [
    "feature = dog[['친화성_score']]\n",
    "\n",
    "kmeans = KMeans(n_clusters=3, init='k-means++', max_iter=300, random_state=0).fit(feature)\n",
    "\n",
    "dog['친화성_군집'] = kmeans.labels_"
   ]
  },
  {
   "cell_type": "code",
   "execution_count": 16,
   "id": "d09e6dd1",
   "metadata": {},
   "outputs": [
    {
     "data": {
      "text/plain": [
       "친화성_군집\n",
       "0   -1.296131\n",
       "1    2.611991\n",
       "2    0.186905\n",
       "Name: 친화성_score, dtype: float64"
      ]
     },
     "execution_count": 16,
     "metadata": {},
     "output_type": "execute_result"
    }
   ],
   "source": [
    "dog.groupby('친화성_군집')['친화성_score'].mean()"
   ]
  },
  {
   "cell_type": "code",
   "execution_count": 17,
   "id": "1332df79",
   "metadata": {},
   "outputs": [
    {
     "data": {
      "text/plain": [
       "2    2627\n",
       "1     884\n",
       "0     672\n",
       "Name: 친화성_군집, dtype: int64"
      ]
     },
     "execution_count": 17,
     "metadata": {},
     "output_type": "execute_result"
    }
   ],
   "source": [
    "dog['친화성_군집'].value_counts()"
   ]
  },
  {
   "cell_type": "code",
   "execution_count": 18,
   "id": "b90f37cb",
   "metadata": {},
   "outputs": [],
   "source": [
    "dog=dog.replace({'친화성_군집':dict(dog.groupby('친화성_군집')['친화성_score'].mean().argsort())})"
   ]
  },
  {
   "cell_type": "code",
   "execution_count": 19,
   "id": "660ced43",
   "metadata": {},
   "outputs": [],
   "source": [
    "feature = dog[['api_건강점수']]\n",
    "\n",
    "kmeans = KMeans(n_clusters=5, init='k-means++', max_iter=300, random_state=0).fit(feature)\n",
    "\n",
    "dog['건강상태_군집'] = kmeans.labels_"
   ]
  },
  {
   "cell_type": "code",
   "execution_count": 20,
   "id": "09395efa",
   "metadata": {},
   "outputs": [
    {
     "data": {
      "text/plain": [
       "건강상태_군집\n",
       "0    7.000\n",
       "1    5.000\n",
       "2    6.000\n",
       "3    4.000\n",
       "4    2.625\n",
       "Name: api_건강점수, dtype: float64"
      ]
     },
     "execution_count": 20,
     "metadata": {},
     "output_type": "execute_result"
    }
   ],
   "source": [
    "dog.groupby('건강상태_군집')['api_건강점수'].mean()"
   ]
  },
  {
   "cell_type": "code",
   "execution_count": 21,
   "id": "785e1521",
   "metadata": {},
   "outputs": [],
   "source": [
    "dog=dog.replace({'건강상태_군집':dict(dog.groupby('건강상태_군집')['api_건강점수'].mean().argsort())})"
   ]
  },
  {
   "cell_type": "code",
   "execution_count": 22,
   "id": "b390069d",
   "metadata": {},
   "outputs": [
    {
     "data": {
      "text/plain": [
       "4    3562\n",
       "1     353\n",
       "3     188\n",
       "2      56\n",
       "0      24\n",
       "Name: 건강상태_군집, dtype: int64"
      ]
     },
     "execution_count": 22,
     "metadata": {},
     "output_type": "execute_result"
    }
   ],
   "source": [
    "dog['건강상태_군집'].value_counts()"
   ]
  },
  {
   "cell_type": "code",
   "execution_count": 23,
   "id": "fffad895",
   "metadata": {},
   "outputs": [],
   "source": [
    "dog['성견'] = 0"
   ]
  },
  {
   "cell_type": "code",
   "execution_count": 24,
   "id": "defd472a",
   "metadata": {},
   "outputs": [],
   "source": [
    "dog.loc[dog['만나이']>=1, '성견'] = 1"
   ]
  },
  {
   "cell_type": "code",
   "execution_count": 105,
   "id": "47cf5936",
   "metadata": {},
   "outputs": [],
   "source": [
    "feature = dog[['성견', '나이_주환산', '체중_숫자']]\n",
    "\n",
    "minmaxscaler.fit(feature)\n",
    "dog_minmax_scaled = minmaxscaler.transform(feature)\n",
    "\n",
    "kmeans = KMeans(n_clusters=9, init='k-means++', max_iter=300, random_state=0).fit(dog_minmax_scaled)\n",
    "\n",
    "dog['체중+나이_군집'] = kmeans.labels_"
   ]
  },
  {
   "cell_type": "code",
   "execution_count": 107,
   "id": "752aa22e",
   "metadata": {},
   "outputs": [
    {
     "data": {
      "text/html": [
       "<div>\n",
       "<style scoped>\n",
       "    .dataframe tbody tr th:only-of-type {\n",
       "        vertical-align: middle;\n",
       "    }\n",
       "\n",
       "    .dataframe tbody tr th {\n",
       "        vertical-align: top;\n",
       "    }\n",
       "\n",
       "    .dataframe thead th {\n",
       "        text-align: right;\n",
       "    }\n",
       "</style>\n",
       "<table border=\"1\" class=\"dataframe\">\n",
       "  <thead>\n",
       "    <tr style=\"text-align: right;\">\n",
       "      <th></th>\n",
       "      <th>체중_숫자</th>\n",
       "      <th>만나이</th>\n",
       "    </tr>\n",
       "    <tr>\n",
       "      <th>체중+나이_군집</th>\n",
       "      <th></th>\n",
       "      <th></th>\n",
       "    </tr>\n",
       "  </thead>\n",
       "  <tbody>\n",
       "    <tr>\n",
       "      <th>0</th>\n",
       "      <td>24.716336</td>\n",
       "      <td>2.926724</td>\n",
       "    </tr>\n",
       "    <tr>\n",
       "      <th>1</th>\n",
       "      <td>2.356904</td>\n",
       "      <td>0.000000</td>\n",
       "    </tr>\n",
       "    <tr>\n",
       "      <th>2</th>\n",
       "      <td>6.038162</td>\n",
       "      <td>1.503115</td>\n",
       "    </tr>\n",
       "    <tr>\n",
       "      <th>3</th>\n",
       "      <td>6.153984</td>\n",
       "      <td>9.455285</td>\n",
       "    </tr>\n",
       "    <tr>\n",
       "      <th>4</th>\n",
       "      <td>5.706977</td>\n",
       "      <td>5.705426</td>\n",
       "    </tr>\n",
       "    <tr>\n",
       "      <th>5</th>\n",
       "      <td>8.907600</td>\n",
       "      <td>0.000000</td>\n",
       "    </tr>\n",
       "    <tr>\n",
       "      <th>6</th>\n",
       "      <td>15.321423</td>\n",
       "      <td>3.767790</td>\n",
       "    </tr>\n",
       "    <tr>\n",
       "      <th>7</th>\n",
       "      <td>6.529683</td>\n",
       "      <td>3.292683</td>\n",
       "    </tr>\n",
       "    <tr>\n",
       "      <th>8</th>\n",
       "      <td>14.694862</td>\n",
       "      <td>1.541436</td>\n",
       "    </tr>\n",
       "  </tbody>\n",
       "</table>\n",
       "</div>"
      ],
      "text/plain": [
       "              체중_숫자       만나이\n",
       "체중+나이_군집                     \n",
       "0         24.716336  2.926724\n",
       "1          2.356904  0.000000\n",
       "2          6.038162  1.503115\n",
       "3          6.153984  9.455285\n",
       "4          5.706977  5.705426\n",
       "5          8.907600  0.000000\n",
       "6         15.321423  3.767790\n",
       "7          6.529683  3.292683\n",
       "8         14.694862  1.541436"
      ]
     },
     "execution_count": 107,
     "metadata": {},
     "output_type": "execute_result"
    }
   ],
   "source": [
    "dog.groupby('체중+나이_군집')[['체중_숫자','만나이']].mean()"
   ]
  },
  {
   "cell_type": "code",
   "execution_count": null,
   "outputs": [],
   "source": [
    "feature = dog[['만나이', '체중_숫자', '친화성_score', 'api_건강점수']]\n",
    "\n",
    "minmaxscaler.fit(feature)\n",
    "dog_minmax_scaled = minmaxscaler.transform(feature)\n",
    "\n",
    "kmeans = KMeans(n_clusters=12, init='k-means++', max_iter=1000, random_state=0).fit(dog_minmax_scaled)\n",
    "\n",
    "dog['4개피쳐 군집'] = kmeans.labels_"
   ],
   "metadata": {
    "collapsed": false,
    "pycharm": {
     "name": "#%%\n"
    }
   }
  },
  {
   "cell_type": "code",
   "execution_count": null,
   "outputs": [],
   "source": [
    "dog.to_csv('../군집/군집결과/결과1.csv', index=False)"
   ],
   "metadata": {
    "collapsed": false,
    "pycharm": {
     "name": "#%%\n"
    }
   }
  },
  {
   "cell_type": "code",
   "execution_count": null,
   "outputs": [],
   "source": [
    "dog.groupby('4개피쳐 군집')[['만나이', '체중_숫자', '친화성_score', 'api_건강점수']].mean()"
   ],
   "metadata": {
    "collapsed": false,
    "pycharm": {
     "name": "#%%\n"
    }
   }
  },
  {
   "cell_type": "code",
   "execution_count": 101,
   "id": "94d41087",
   "metadata": {},
   "outputs": [],
   "source": [
    "from sklearn.cluster import DBSCAN\n",
    "\n",
    "feature = dog[['나이_주환산', '체중_숫자', '친화성_score', 'api_건강점수']]\n",
    "\n",
    "dog_minmax_scaled = minmaxscaler.fit_transform(feature)\n",
    "\n",
    "dbscan = DBSCAN(eps=0.09095, min_samples=10)\n",
    "dbscan_labels = dbscan.fit_predict(dog_minmax_scaled)\n",
    "\n",
    "dog['db스캔 라벨'] = dbscan_labels"
   ]
  },
  {
   "cell_type": "code",
   "execution_count": 102,
   "id": "2503c1dd",
   "metadata": {},
   "outputs": [
    {
     "data": {
      "text/html": [
       "<div>\n",
       "<style scoped>\n",
       "    .dataframe tbody tr th:only-of-type {\n",
       "        vertical-align: middle;\n",
       "    }\n",
       "\n",
       "    .dataframe tbody tr th {\n",
       "        vertical-align: top;\n",
       "    }\n",
       "\n",
       "    .dataframe thead th {\n",
       "        text-align: right;\n",
       "    }\n",
       "</style>\n",
       "<table border=\"1\" class=\"dataframe\">\n",
       "  <thead>\n",
       "    <tr style=\"text-align: right;\">\n",
       "      <th></th>\n",
       "      <th>나이_주환산</th>\n",
       "      <th>체중_숫자</th>\n",
       "      <th>친화성_score</th>\n",
       "      <th>api_건강점수</th>\n",
       "    </tr>\n",
       "    <tr>\n",
       "      <th>db스캔 라벨</th>\n",
       "      <th></th>\n",
       "      <th></th>\n",
       "      <th></th>\n",
       "      <th></th>\n",
       "    </tr>\n",
       "  </thead>\n",
       "  <tbody>\n",
       "    <tr>\n",
       "      <th>-1</th>\n",
       "      <td>244.579819</td>\n",
       "      <td>12.676657</td>\n",
       "      <td>0.801205</td>\n",
       "      <td>5.554217</td>\n",
       "    </tr>\n",
       "    <tr>\n",
       "      <th>0</th>\n",
       "      <td>84.297288</td>\n",
       "      <td>6.838555</td>\n",
       "      <td>0.444155</td>\n",
       "      <td>7.000000</td>\n",
       "    </tr>\n",
       "    <tr>\n",
       "      <th>1</th>\n",
       "      <td>97.550000</td>\n",
       "      <td>5.856923</td>\n",
       "      <td>0.300000</td>\n",
       "      <td>6.000000</td>\n",
       "    </tr>\n",
       "    <tr>\n",
       "      <th>2</th>\n",
       "      <td>82.763348</td>\n",
       "      <td>4.691111</td>\n",
       "      <td>0.000000</td>\n",
       "      <td>5.000000</td>\n",
       "    </tr>\n",
       "    <tr>\n",
       "      <th>3</th>\n",
       "      <td>50.272727</td>\n",
       "      <td>3.168182</td>\n",
       "      <td>2.000000</td>\n",
       "      <td>5.000000</td>\n",
       "    </tr>\n",
       "    <tr>\n",
       "      <th>4</th>\n",
       "      <td>178.285714</td>\n",
       "      <td>13.857143</td>\n",
       "      <td>4.000000</td>\n",
       "      <td>7.000000</td>\n",
       "    </tr>\n",
       "    <tr>\n",
       "      <th>5</th>\n",
       "      <td>26.625000</td>\n",
       "      <td>2.721667</td>\n",
       "      <td>0.000000</td>\n",
       "      <td>4.000000</td>\n",
       "    </tr>\n",
       "    <tr>\n",
       "      <th>6</th>\n",
       "      <td>442.000000</td>\n",
       "      <td>3.833333</td>\n",
       "      <td>0.000000</td>\n",
       "      <td>6.000000</td>\n",
       "    </tr>\n",
       "  </tbody>\n",
       "</table>\n",
       "</div>"
      ],
      "text/plain": [
       "             나이_주환산      체중_숫자  친화성_score  api_건강점수\n",
       "db스캔 라벨                                            \n",
       "-1       244.579819  12.676657   0.801205  5.554217\n",
       " 0        84.297288   6.838555   0.444155  7.000000\n",
       " 1        97.550000   5.856923   0.300000  6.000000\n",
       " 2        82.763348   4.691111   0.000000  5.000000\n",
       " 3        50.272727   3.168182   2.000000  5.000000\n",
       " 4       178.285714  13.857143   4.000000  7.000000\n",
       " 5        26.625000   2.721667   0.000000  4.000000\n",
       " 6       442.000000   3.833333   0.000000  6.000000"
      ]
     },
     "execution_count": 102,
     "metadata": {},
     "output_type": "execute_result"
    }
   ],
   "source": [
    "dog.groupby('db스캔 라벨')[['나이_주환산', '체중_숫자', '친화성_score', 'api_건강점수']].mean()"
   ]
  },
  {
   "cell_type": "code",
   "execution_count": 59,
   "id": "c43f9f03",
   "metadata": {},
   "outputs": [
    {
     "data": {
      "text/plain": [
       "array([0, 0, 0, ..., 0, 0, 0], dtype=int64)"
      ]
     },
     "execution_count": 59,
     "metadata": {},
     "output_type": "execute_result"
    }
   ],
   "source": []
  }
 ],
 "metadata": {
  "kernelspec": {
   "display_name": "Python 3 (ipykernel)",
   "language": "python",
   "name": "python3"
  },
  "language_info": {
   "codemirror_mode": {
    "name": "ipython",
    "version": 3
   },
   "file_extension": ".py",
   "mimetype": "text/x-python",
   "name": "python",
   "nbconvert_exporter": "python",
   "pygments_lexer": "ipython3",
   "version": "3.9.12"
  }
 },
 "nbformat": 4,
 "nbformat_minor": 5
}