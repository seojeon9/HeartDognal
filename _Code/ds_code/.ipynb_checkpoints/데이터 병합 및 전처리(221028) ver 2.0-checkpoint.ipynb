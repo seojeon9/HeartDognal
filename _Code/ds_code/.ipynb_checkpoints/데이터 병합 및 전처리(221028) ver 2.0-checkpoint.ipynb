{
 "cells": [
  {
   "cell_type": "code",
   "execution_count": 222,
   "id": "c47d53b7",
   "metadata": {},
   "outputs": [],
   "source": [
    "import pandas as pd\n",
    "import re"
   ]
  },
  {
   "cell_type": "code",
   "execution_count": 223,
   "id": "59a6859f",
   "metadata": {},
   "outputs": [],
   "source": [
    "animal = pd.read_csv('../data/animal(221028).csv')"
   ]
  },
  {
   "cell_type": "code",
   "execution_count": 224,
   "id": "13f68835",
   "metadata": {},
   "outputs": [],
   "source": [
    "breed = pd.read_csv('../data/품종별 특성.csv', encoding='cp949')"
   ]
  },
  {
   "cell_type": "markdown",
   "id": "ac9355f4",
   "metadata": {},
   "source": [
    "### 보호중인 동물만"
   ]
  },
  {
   "cell_type": "code",
   "execution_count": 225,
   "id": "d9ba5797",
   "metadata": {},
   "outputs": [],
   "source": [
    "animal=animal.loc[animal['상태']=='보호중',:]"
   ]
  },
  {
   "cell_type": "markdown",
   "id": "e5c11a42",
   "metadata": {},
   "source": [
    "### 강아지만 추출"
   ]
  },
  {
   "cell_type": "code",
   "execution_count": 226,
   "id": "ddfdbb9e",
   "metadata": {},
   "outputs": [],
   "source": [
    "p = re.compile('[개]')\n",
    "\n",
    "animal['품종'] = animal['품종'].astype('str')\n",
    "\n",
    "dog_index = []\n",
    "\n",
    "for i, a in enumerate(animal['품종']) :\n",
    "    if p.search(a) :\n",
    "        dog_index.append(i)\n",
    "        \n",
    "animal = animal.iloc[dog_index, :]\n",
    "\n",
    "animal.reset_index(inplace=True)"
   ]
  },
  {
   "cell_type": "markdown",
   "id": "36f9abd6",
   "metadata": {},
   "source": [
    "### 유기동물 + 품종정보 병합"
   ]
  },
  {
   "cell_type": "code",
   "execution_count": 227,
   "id": "b0614b68",
   "metadata": {},
   "outputs": [],
   "source": [
    "breed_list = []\n",
    "for a in animal['품종'] :\n",
    "    breed_list.append(re.sub('\\[\\S+\\] ', '', a))"
   ]
  },
  {
   "cell_type": "code",
   "execution_count": 228,
   "id": "1f9ce22f",
   "metadata": {},
   "outputs": [],
   "source": [
    "animal['품종_축종제외'] = breed_list"
   ]
  },
  {
   "cell_type": "code",
   "execution_count": 229,
   "id": "7c61e50d",
   "metadata": {},
   "outputs": [],
   "source": [
    "animal.loc[animal.품종_축종제외.isin(['말티즈']), '품종_축종제외'] = '몰티즈'\n",
    "\n",
    "animal.loc[animal.품종_축종제외.isin(['프렌치 불독']), '품종_축종제외'] = '프렌치 불도그'\n",
    "\n",
    "animal.loc[animal.품종_축종제외.isin(['진도견']), '품종_축종제외'] = '진돗개'\n",
    "\n",
    "animal.loc[animal.품종_축종제외.isin(['올드 잉글리쉬 쉽독']), '품종_축종제외'] = '올드 잉글리시 쉽독'\n",
    "\n",
    "animal.loc[animal.품종_축종제외.isin(['벨기에 그로넨달']), '품종_축종제외'] = '벨지안 쉽도그 그로넨달'\n",
    "\n",
    "animal.loc[animal.품종_축종제외.isin(['시바']), '품종_축종제외'] = '시바 이누'\n",
    "\n",
    "animal.loc[animal.품종_축종제외.isin(['진도견']), '품종_축종제외'] = '진돗개'\n",
    "\n",
    "animal.loc[animal.품종_축종제외.isin(['라브라도 리트리버']), '품종_축종제외'] = '래브라도 리트리버'\n",
    "\n",
    "animal.loc[animal.품종_축종제외.isin(['그레이트 덴']), '품종_축종제외'] = '그레이트 데인'\n",
    "\n",
    "animal.loc[animal.품종_축종제외.isin(['스탠다드 푸들']), '품종_축종제외'] = '스탠더드 푸들'\n",
    "\n",
    "animal.loc[animal.품종_축종제외.isin(['제페니즈칭']), '품종_축종제외'] = '제페니스 친'\n",
    "\n",
    "animal.loc[animal.품종_축종제외.isin(['도베르만']), '품종_축종제외'] = '도베르만 핀셔'\n",
    "\n",
    "animal.loc[animal.품종_축종제외.isin(['이탈리안 그레이 하운드']), '품종_축종제외'] = '이탈리안 그레이하운드'\n",
    "\n",
    "animal.loc[animal.품종_축종제외.isin(['미니어쳐 핀셔']), '품종_축종제외'] = '미니어처 핀셔'\n",
    "\n",
    "animal.loc[animal.품종_축종제외.isin(['풍산견']), '품종_축종제외'] = '풍산개'\n",
    "\n",
    "animal.loc[animal.품종_축종제외.isin(['달마시안']), '품종_축종제외'] = '달마티안'\n",
    "\n",
    "animal.loc[animal.품종_축종제외.isin(['로트와일러']), '품종_축종제외'] = '롯트와일러'\n",
    "\n",
    "animal.loc[animal.품종_축종제외.isin(['노리치 테리어']), '품종_축종제외'] = '노르위치 테리어'\n",
    "\n",
    "animal.loc[animal.품종_축종제외.isin(['브리타니 스파니엘']), '품종_축종제외'] = '브리타니'\n",
    "\n",
    "animal.loc[animal.품종_축종제외.isin(['아키다']), '품종_축종제외'] = '아키타'\n",
    "\n",
    "animal.loc[animal.품종_축종제외.isin(['노퍽 테리어']), '품종_축종제외'] = '노르포크 테리어'\n",
    "\n",
    "animal.loc[animal.품종_축종제외.isin(['브뤼셀그리펀']), '품종_축종제외'] = '브루셀 그리폰'\n",
    "\n",
    "animal.loc[animal.품종_축종제외.isin(['잉글리쉬 세터']), '품종_축종제외'] = '잉글리시 세터'\n",
    "\n",
    "animal.loc[animal.품종_축종제외.isin(['푸들', '미니어쳐 푸들']), '품종_축종제외'] = '미니어처 푸들'\n",
    "\n",
    "animal.loc[animal.품종_축종제외.isin(['웰시 코기 펨브로크', '웰시 코기 카디건']), '품종_축종제외'] = '웰시 코기'\n",
    "\n",
    "animal.loc[animal.품종_축종제외.isin(['폼피츠', '폼피스', '스피츠', '미텔 스피츠']), '품종_축종제외'] = '제페니스 스피츠'\n",
    "\n",
    "animal.loc[animal.품종_축종제외.isin(['불독']), '품종_축종제외'] = '불도그'\n",
    "\n",
    "animal.loc[animal.품종_축종제외.isin(['샤페이']), '품종_축종제외'] = '차이니즈 샤페이'\n",
    "\n",
    "animal.loc[animal.품종_축종제외.isin(['셰퍼드', '저먼 셰퍼드 독']), '품종_축종제외'] = '저먼 셰퍼드 도그'\n",
    "\n",
    "animal.loc[animal.품종_축종제외.isin(['말라뮤트', '알라스칸 말라뮤트']), '품종_축종제외'] = '알래스칸 맬러뮤트'\n",
    "\n",
    "animal.loc[animal.품종_축종제외.isin(['슈나우져', '미니어쳐 슈나우저']), '품종_축종제외'] = '미니어처 슈나우저'\n",
    "\n",
    "animal.loc[animal.품종_축종제외.isin(['빠삐용']), '품종_축종제외'] = '파피용'\n",
    "\n",
    "animal.loc[animal.품종_축종제외.isin(['말티푸']), '품종_축종제외'] = '말티즈'\n",
    "\n",
    "animal.loc[animal.품종_축종제외.isin(['코카 스파니엘']), '품종_축종제외'] = '잉글리시 코카 스파니엘'\n",
    "\n",
    "animal.loc[animal.품종_축종제외.isin(['말리노이즈', '마리노이즈']), '품종_축종제외'] = '벨지안 쉽도그 말리노이즈'\n",
    "\n",
    "animal.loc[animal.품종_축종제외.isin(['페터데일테리어']), '품종_축종제외'] = '스코티시 테리어'\n",
    "\n",
    "animal.loc[animal.품종_축종제외.isin(['차이니즈 크레스티디 독', '차이니즈 크레스티드 독']), '품종_축종제외'] = '차이니즈 크레스티드'\n",
    "\n",
    "animal.loc[animal.품종_축종제외.isin(['화이트테리어']), '품종_축종제외'] = '웨스트 하이랜드 화이트 테리어'\n",
    "\n",
    "animal.loc[animal.품종_축종제외.isin(['아메리칸 스태퍼드셔 테리어', '아메리칸 핏불 테리어', '핏불테리어']), '품종_축종제외'] = '핏불 테리어'\n",
    "\n",
    "animal.loc[animal.품종_축종제외.isin(['캉갈']), '품종_축종제외'] = '코카시안 오브차카'\n",
    "\n",
    "animal.loc[animal.품종_축종제외.isin(['콜리 믹스']), '품종_축종제외'] = '보더 콜리'\n",
    "\n",
    "animal.loc[animal.품종_축종제외.isin(['혼합']), '품종_축종제외'] = '믹스견'"
   ]
  },
  {
   "cell_type": "code",
   "execution_count": 230,
   "id": "2c533099",
   "metadata": {},
   "outputs": [],
   "source": [
    "animal = pd.merge(animal, breed, left_on='품종_축종제외', right_on='품종', how=\"left\")"
   ]
  },
  {
   "cell_type": "markdown",
   "id": "134b1ef0",
   "metadata": {},
   "source": [
    "## 건강"
   ]
  },
  {
   "cell_type": "markdown",
   "id": "30c195bc",
   "metadata": {},
   "source": [
    "### 1) 질병"
   ]
  },
  {
   "cell_type": "code",
   "execution_count": 231,
   "id": "c30ccb2a",
   "metadata": {},
   "outputs": [],
   "source": [
    "# diseases = ['감염','염증', '피부염', '결막염', '피부명', '질병', '질환', '증상', '실조', '발작', '곤란', '사상충', '종양', '배농피증', '증세', '양성', '잠복', '장파열', '허니아', '백내장', '디스템퍼', '개선충', '진드기', '안충', '폐렴', '코로나', '손상']"
   ]
  },
  {
   "cell_type": "code",
   "execution_count": 232,
   "id": "fcb73001",
   "metadata": {},
   "outputs": [],
   "source": [
    "# animal_disease = []\n",
    "\n",
    "# for char in animal['특징'] :\n",
    "    \n",
    "#     char_disease = []\n",
    "    \n",
    "#     for disease in diseases :        \n",
    "#         p = re.compile(('.*'+disease+'.*'))\n",
    "        \n",
    "#         if p.search(char) :\n",
    "#             m=p.findall(char)\n",
    "#             char_disease.append(m)\n",
    "        \n",
    "#     animal_disease.append(char_disease)\n",
    "\n",
    "# animal['질병'] = animal_disease"
   ]
  },
  {
   "cell_type": "markdown",
   "id": "3487a806",
   "metadata": {},
   "source": [
    "### 2) 장애"
   ]
  },
  {
   "cell_type": "code",
   "execution_count": 233,
   "id": "ce8761bc",
   "metadata": {},
   "outputs": [],
   "source": [
    "# disorders = ['족지', '좌측후지', '골절', '절단', '기립', '못함', '마비', '교통사고', '사고', '상해', '불가', '불가능', '불능', '절음', '탈구', '탈골', '외상', '부정교합', '치아없음', '기형', '의식없음', '보행이상', '사고의심']"
   ]
  },
  {
   "cell_type": "code",
   "execution_count": 234,
   "id": "1926b46c",
   "metadata": {},
   "outputs": [],
   "source": [
    "# animal_disorder = []\n",
    "\n",
    "# for char in animal['특징'] :\n",
    "    \n",
    "#     char_disorder = []\n",
    "    \n",
    "#     for disorder in disorders :\n",
    "        \n",
    "#         p = re.compile('.*'+disorder+'.*')\n",
    "        \n",
    "#         if p.search(char) :\n",
    "#             m=p.findall(char)\n",
    "#             char_disorder.append(m)\n",
    "        \n",
    "        \n",
    "#     animal_disorder.append(char_disorder)\n",
    "\n",
    "# animal['장애'] = animal_disorder"
   ]
  },
  {
   "cell_type": "markdown",
   "id": "770b8cd9",
   "metadata": {},
   "source": [
    "### 3)  일시적으로 보이는 증상들"
   ]
  },
  {
   "cell_type": "code",
   "execution_count": 235,
   "id": "cc9fe72c",
   "metadata": {},
   "outputs": [],
   "source": [
    "# etcs = ['영양상태', '출혈', '기력', '허약', '식욕부진', '임신', '탈수', '탈진', '무기력', '힘이없음', '설사', '눈곱', '콧물', '침흘림', '저체온', '진드기', '혈변', '거품토', '탯줄', '치석', '찰과상', '상처', '쇠약', '탈모', '기침', '비만']"
   ]
  },
  {
   "cell_type": "code",
   "execution_count": 236,
   "id": "087e14d7",
   "metadata": {},
   "outputs": [],
   "source": [
    "# animal_etc = []\n",
    "\n",
    "# for char in animal['특징'] :\n",
    "    \n",
    "#     char_etc = []\n",
    "    \n",
    "#     for etc in etcs :        \n",
    "#         p = re.compile('.*'+etc+'.*')\n",
    "        \n",
    "#         if p.search(char) :\n",
    "#             m=p.findall(char)\n",
    "#             char_etc.append(m)\n",
    "        \n",
    "#     animal_etc.append(char_etc)\n",
    "    \n",
    "# animal['일시증상'] = animal_etc"
   ]
  },
  {
   "cell_type": "markdown",
   "id": "b3f46a87",
   "metadata": {},
   "source": [
    "# 건강"
   ]
  },
  {
   "cell_type": "code",
   "execution_count": 237,
   "id": "8e0dd96e",
   "metadata": {},
   "outputs": [],
   "source": [
    "pain_list = ['감염','염증', '병변', '피부', '이염', '결막염', '질병', '질환', '증상', '실조', '발작', '곤란', '사상충', '종양', '배농피증', '증세', '양성', '잠복', '장파열', '허니아', '백내장', '디스템퍼', '개선충', '진드기', '안충', '폐렴', '코로나', '손상', '백내장',\n",
    "       '족지', '좌측후지', '장애', '골절', '절단', '기립', '못함', '마비', '교통사고', '사고', '상해', '불가', '불가능', '불능', '절음', '절고', '절뚝', '탈구', '탈골', '외상', '부정교합', '치아없음', '기형', '의식없음', '보행이상', '사고의심', '안구', '휘어',  '파행', '파열', '나와있음', '실명',\n",
    "       '영양상태', '출혈', '기력', '허약', '식욕부진', '식욕없음', '식욕 없음', '임신', '탈수', '탈진', '탈장', '마름', '무기력', '힘이없음', '설사', '눈곱', '콧물', '침흘림', '저체온', '진드기', '혈변', '거품토', '탯줄', '치석', '찰과상', '상처', '쇠약', '탈모', '기침', '비만', '몸떪', '묽은변', '덜덜', '물혹']"
   ]
  },
  {
   "cell_type": "code",
   "execution_count": 238,
   "id": "037bf299",
   "metadata": {},
   "outputs": [],
   "source": [
    "animal_pain = []\n",
    "\n",
    "for char in animal['특징'] :\n",
    "    \n",
    "    char_pain = []\n",
    "    \n",
    "    for pain in pain_list :        \n",
    "        p = re.compile('.*'+pain+'.*')\n",
    "        \n",
    "        if p.search(char) :\n",
    "            m=p.findall(char)\n",
    "            char_pain.append(m)\n",
    "        \n",
    "    animal_pain.append(char_pain)\n",
    "\n",
    "animal['건강'] = animal_pain"
   ]
  },
  {
   "cell_type": "markdown",
   "id": "dbfe6752",
   "metadata": {},
   "source": [
    "## 성격"
   ]
  },
  {
   "cell_type": "markdown",
   "id": "d25a901c",
   "metadata": {},
   "source": [
    "### 1) 친화성 ↑"
   ]
  },
  {
   "cell_type": "code",
   "execution_count": 239,
   "id": "2c016dbc",
   "metadata": {},
   "outputs": [],
   "source": [
    "affinitiy_list = ['좋아', '따름', '따른', '따르', '따름', '따른', '따르', '온순', '순함', '순한', '순하', '순둥', '순딩', '순종', '친화', '호기심', \n",
    "                  '활발', '착함', '착한', '밝은', '밝고', '애교', '호의', '얌전', '사교', '우호', '친밀', '명량', \n",
    "                  '친근', '사랑스', '활기', '쾌활', '활달', '낯가림 없음', '입질없음', '사회성', '성격좋은', \n",
    "                  '성격 좋은', '차분', '점잖', '안기는', '배변가림', '배변 가림', '배변가리고', '배변 가리고', '낯가림없음', '낯가림 없음', '공격성 없음', '공격성없음']"
   ]
  },
  {
   "cell_type": "code",
   "execution_count": 240,
   "id": "2ce67a28",
   "metadata": {},
   "outputs": [],
   "source": [
    "animal_affinity = []\n",
    "\n",
    "for char in animal['특징'] :\n",
    "    \n",
    "    char_affinity = []\n",
    "    \n",
    "    for affinity in affinitiy_list :        \n",
    "        p = re.compile('.*'+affinity+'.*')\n",
    "        \n",
    "        if p.search(char) :\n",
    "            m=p.findall(char)\n",
    "            char_affinity.append(m)\n",
    "        \n",
    "    animal_affinity.append(char_affinity)\n",
    "    \n",
    "animal['친화성+'] = animal_affinity"
   ]
  },
  {
   "cell_type": "markdown",
   "id": "9e16e547",
   "metadata": {},
   "source": [
    "### 2) 친화성 ↓"
   ]
  },
  {
   "cell_type": "code",
   "execution_count": 241,
   "id": "3ff6ff41",
   "metadata": {},
   "outputs": [],
   "source": [
    "unfriendly_list = ['위협','사나움', '사나운', '싸나움', '사납', '경계', '겁', '소심', '쫄보', '입질', '무서워', '무서운', '낯가림', '낯가리', '으르렁', '예민', '까칠', '무뚝뚝', '공격성', '따르지 않음', '친화 노력', '사람손피함', '공격적', '숫기가 없', '돌변', '포악', '짖음', '짖는', '짖다' '훈련안됨', '짜증', '성격있음', '성격 있음', '싫어', '안기려하지는 않음', '거칠', '피함', '불안', '다가가기']"
   ]
  },
  {
   "cell_type": "code",
   "execution_count": 242,
   "id": "d5b2b502",
   "metadata": {},
   "outputs": [],
   "source": [
    "animal_unfriendly = []\n",
    "\n",
    "for char in animal['특징'] :\n",
    "    \n",
    "    char_unfriendly = []\n",
    "    \n",
    "    for unfriendly in unfriendly_list :        \n",
    "        p = re.compile('.*'+unfriendly+'.*')\n",
    "        \n",
    "        if p.search(char) :\n",
    "            m=p.findall(char)\n",
    "            char_unfriendly.append(m)\n",
    "        \n",
    "    animal_unfriendly.append(char_unfriendly)\n",
    "    \n",
    "animal['친화성-'] = animal_unfriendly"
   ]
  },
  {
   "cell_type": "markdown",
   "id": "1387a6ef",
   "metadata": {},
   "source": [
    "## 강조"
   ]
  },
  {
   "cell_type": "markdown",
   "id": "ff8fbf5d",
   "metadata": {},
   "source": [
    "### 친화성 + 강조"
   ]
  },
  {
   "cell_type": "code",
   "execution_count": 243,
   "id": "0f3fcf97",
   "metadata": {},
   "outputs": [],
   "source": [
    "emphasis_list = ['매우', '많이', '많은', '많고', '잘', '엄청', '너무', '너무나', '굉장히', '대단히', '몹시', '무척', '심히', '아주', '심각', '심함', '나쁨', '불량']"
   ]
  },
  {
   "cell_type": "code",
   "execution_count": 244,
   "id": "c3eb2ce8",
   "metadata": {},
   "outputs": [],
   "source": [
    "animal_emphasis_affinitiy = []\n",
    "\n",
    "for char in animal['특징'] :\n",
    "    \n",
    "    char_emphasis_affinitiy = []\n",
    "    \n",
    "    for affinitiy in affinitiy_list :\n",
    "    \n",
    "        for emphasis in emphasis_list :\n",
    "            \n",
    "            p = re.compile('.*'+emphasis+'\\s{0,1}'+affinity+'.*' + '|' + '.*'+affinity+'\\s{0,1}'+emphasis+'.*')\n",
    "\n",
    "            if p.search(char) :\n",
    "                m=p.findall(char)\n",
    "                char_emphasis_affinitiy.append(m)\n",
    "\n",
    "        \n",
    "    animal_emphasis_affinitiy.append(char_emphasis_affinitiy)\n",
    "    \n",
    "animal['친화성+강조'] = animal_emphasis_affinitiy"
   ]
  },
  {
   "cell_type": "markdown",
   "id": "2529af19",
   "metadata": {},
   "source": [
    "### 친화성 - 강조"
   ]
  },
  {
   "cell_type": "code",
   "execution_count": 245,
   "id": "b00caa9f",
   "metadata": {},
   "outputs": [],
   "source": [
    "animal_emphasis_unfriendly = []\n",
    "\n",
    "for char in animal['특징'] :\n",
    "    \n",
    "    char_emphasis_unfriendly = []\n",
    "    \n",
    "    for unfriendly in unfriendly_list :\n",
    "        \n",
    "        for emphasis in emphasis_list :\n",
    "            \n",
    "            p = re.compile('.*'+emphasis+'\\s{0,1}'+unfriendly+'.*' + '|' + '.*'+unfriendly+'\\s{0,1}'+emphasis+'.*')\n",
    "\n",
    "            if p.search(char) :\n",
    "                m=p.findall(char)\n",
    "                char_emphasis_unfriendly.append(m)\n",
    "        \n",
    "    animal_emphasis_unfriendly.append(char_emphasis_unfriendly)\n",
    "    \n",
    "animal['친화성-강조'] = animal_emphasis_unfriendly"
   ]
  },
  {
   "cell_type": "code",
   "execution_count": 246,
   "id": "47df98d4",
   "metadata": {},
   "outputs": [],
   "source": [
    "aff_list = []\n",
    "for aff in animal['친화성+'] :\n",
    "    aff_list.append(len(aff))"
   ]
  },
  {
   "cell_type": "code",
   "execution_count": 247,
   "id": "9495651a",
   "metadata": {},
   "outputs": [],
   "source": [
    "unf_list = []\n",
    "for unf in animal['친화성-'] :\n",
    "    unf_list.append(len(unf))"
   ]
  },
  {
   "cell_type": "code",
   "execution_count": 248,
   "id": "2d399ace",
   "metadata": {},
   "outputs": [],
   "source": [
    "aff_score= [i-j for i, j in zip(aff_list, unf_list)]"
   ]
  },
  {
   "cell_type": "code",
   "execution_count": 249,
   "id": "97dc834a",
   "metadata": {},
   "outputs": [],
   "source": [
    "pain_score = []\n",
    "for pain in animal['건강'] :\n",
    "    pain_score.append(4-len(pain))"
   ]
  },
  {
   "cell_type": "code",
   "execution_count": 250,
   "id": "59b0b4be",
   "metadata": {},
   "outputs": [],
   "source": [
    "animal['api_친화성'] = aff_score\n",
    "animal['api_건강점수'] = pain_score"
   ]
  },
  {
   "cell_type": "markdown",
   "id": "9ea6a23f",
   "metadata": {},
   "source": [
    "#### 친화성 score"
   ]
  },
  {
   "cell_type": "code",
   "execution_count": 251,
   "id": "563cbcc1",
   "metadata": {},
   "outputs": [],
   "source": [
    "animal['친화성_score'] = animal['api_친화성']\n",
    "\n",
    "animal.loc[animal['친화성'] == '높음', '친화성_score'] = animal.loc[animal['친화성'] == '높음', '친화성_score'] + 2\n",
    "animal.loc[animal['친화성'] == '낮음', '친화성_score'] = animal.loc[animal['친화성'] == '높음', '친화성_score'] - 2\n",
    "animal.loc[animal['친화성_score'].isnull()==True, '친화성_score'] = 0"
   ]
  },
  {
   "cell_type": "markdown",
   "id": "d0221b5a",
   "metadata": {},
   "source": [
    "### 연령"
   ]
  },
  {
   "cell_type": "code",
   "execution_count": 252,
   "id": "c8887228",
   "metadata": {},
   "outputs": [],
   "source": [
    "age_list = ['개월', '주', '일']"
   ]
  },
  {
   "cell_type": "code",
   "execution_count": 253,
   "id": "eee9399a",
   "metadata": {},
   "outputs": [],
   "source": [
    "animal_age = []\n",
    "\n",
    "for char in animal['특징'] :\n",
    "    \n",
    "    char_age = []\n",
    "    \n",
    "    for age in age_list :        \n",
    "        p = re.compile('(\\d+[.])*\\d+'+age)\n",
    "        \n",
    "        if p.search(char) :\n",
    "            m=p.search(char)\n",
    "            char_age.append(m.group())\n",
    "        \n",
    "    animal_age.append(char_age)\n",
    "    \n",
    "animal['1년미만'] = animal_age"
   ]
  },
  {
   "cell_type": "markdown",
   "id": "5e1220aa",
   "metadata": {},
   "source": [
    "## 나이"
   ]
  },
  {
   "cell_type": "code",
   "execution_count": 254,
   "id": "f02f98ff",
   "metadata": {},
   "outputs": [],
   "source": [
    "p = re.compile('\\d+\\(년생\\)')"
   ]
  },
  {
   "cell_type": "code",
   "execution_count": 255,
   "id": "a18d9ae5",
   "metadata": {},
   "outputs": [],
   "source": [
    "index_list = []\n",
    "for index, a in enumerate(animal['나이']) :\n",
    "    if p.search(a) == None :\n",
    "        index_list.append(index)\n",
    "        \n",
    "animal = animal.drop(index_list, axis = 0)\n",
    "animal.reset_index(inplace=True)"
   ]
  },
  {
   "cell_type": "code",
   "execution_count": 256,
   "id": "cb5b6808",
   "metadata": {},
   "outputs": [],
   "source": [
    "year_list = []\n",
    "for a in animal['나이'] :\n",
    "    year = a.strip('(년생)')\n",
    "    year_list.append(year)"
   ]
  },
  {
   "cell_type": "code",
   "execution_count": 257,
   "id": "0cfd702e",
   "metadata": {},
   "outputs": [],
   "source": [
    "animal['출생연도'] = year_list"
   ]
  },
  {
   "cell_type": "code",
   "execution_count": 258,
   "id": "ca82eb34",
   "metadata": {},
   "outputs": [],
   "source": [
    "animal['만나이'] = 2022 - animal['출생연도'].astype('int')"
   ]
  },
  {
   "cell_type": "code",
   "execution_count": 259,
   "id": "9405de25",
   "metadata": {},
   "outputs": [],
   "source": [
    "month = re.compile('(\\d+[.]){0,1}\\d+개월')\n",
    "week = re.compile('(\\d+[.]){0,1}\\d+주')\n",
    "day = re.compile('(\\d+[.]){0,1}\\d+일')\n",
    "num = re.compile('(\\d+[.]){0,1}\\d+')"
   ]
  },
  {
   "cell_type": "code",
   "execution_count": 260,
   "id": "afda7ef2",
   "metadata": {},
   "outputs": [],
   "source": [
    "age_list = []\n",
    "\n",
    "animal['1년미만'] = animal['1년미만'].astype('str')\n",
    "\n",
    "for a in animal['1년미만'] :\n",
    "    if month.search(a) :\n",
    "        week_num = float(num.search(a).group()) * 4.5\n",
    "        age_list.append(week_num)\n",
    "        pass\n",
    "    \n",
    "    elif week.search(a) :\n",
    "        week_num = float(num.search(a).group())\n",
    "        age_list.append(week_num)\n",
    "        pass\n",
    "    \n",
    "    elif day.search(a) :\n",
    "        week_num = float(num.search(a).group()) / 7\n",
    "        age_list.append(week_num)\n",
    "        pass\n",
    "    \n",
    "    else :\n",
    "        age_list.append('None')"
   ]
  },
  {
   "cell_type": "code",
   "execution_count": 261,
   "id": "4a6343d9",
   "metadata": {},
   "outputs": [],
   "source": [
    "animal['1년미만_주환산'] = age_list"
   ]
  },
  {
   "cell_type": "code",
   "execution_count": 262,
   "id": "9fd67e61",
   "metadata": {},
   "outputs": [],
   "source": [
    "animal['1년이상_주환산'] = animal['만나이'] * 52"
   ]
  },
  {
   "cell_type": "code",
   "execution_count": 263,
   "id": "c31508b4",
   "metadata": {},
   "outputs": [],
   "source": [
    "week_age_list = []\n",
    "for a, b in zip(animal['1년미만_주환산'], animal['1년이상_주환산']) :\n",
    "    if a == 'None' and b == 0 :\n",
    "        week_age_list.append(27)\n",
    "    elif a == 'None' and b != 0 :\n",
    "        week_age_list.append(b)\n",
    "    else :\n",
    "        week_age_list.append(a)"
   ]
  },
  {
   "cell_type": "code",
   "execution_count": 264,
   "id": "4b7f9726",
   "metadata": {},
   "outputs": [],
   "source": [
    "animal['나이_주환산'] = week_age_list"
   ]
  },
  {
   "cell_type": "markdown",
   "id": "89e1f3ee",
   "metadata": {},
   "source": [
    "## 체중"
   ]
  },
  {
   "cell_type": "code",
   "execution_count": 265,
   "id": "27ec54bc",
   "metadata": {},
   "outputs": [],
   "source": [
    "p = re.compile('(\\d+[.]){0,1}\\d+\\(Kg\\)')"
   ]
  },
  {
   "cell_type": "code",
   "execution_count": 266,
   "id": "37c401eb",
   "metadata": {},
   "outputs": [],
   "source": [
    "a_index = []\n",
    "b = []\n",
    "\n",
    "for i, a in enumerate(animal['체중_x']) :\n",
    "    if p.search(a) == None :\n",
    "        a_index.append(i)\n",
    "        b.append(animal['체중_x'][i])"
   ]
  },
  {
   "cell_type": "code",
   "execution_count": 267,
   "id": "41f89397",
   "metadata": {},
   "outputs": [],
   "source": [
    "p = re.compile('(\\d+[.]){0,1}\\d+')"
   ]
  },
  {
   "cell_type": "code",
   "execution_count": 268,
   "id": "c827de94",
   "metadata": {},
   "outputs": [],
   "source": [
    "weight_list = []\n",
    "for a in animal['체중_x'] :\n",
    "    weight_list.append(p.search(a).group())"
   ]
  },
  {
   "cell_type": "code",
   "execution_count": 269,
   "id": "cc909982",
   "metadata": {},
   "outputs": [],
   "source": [
    "animal['체중_숫자'] = weight_list"
   ]
  },
  {
   "cell_type": "code",
   "execution_count": 270,
   "id": "518bb893",
   "metadata": {},
   "outputs": [],
   "source": [
    "animal['체중_숫자'] = animal['체중_숫자'].astype(float)"
   ]
  },
  {
   "cell_type": "markdown",
   "id": "49ce7caf",
   "metadata": {},
   "source": [
    "#### 털빠짐 score"
   ]
  },
  {
   "cell_type": "code",
   "execution_count": 271,
   "id": "8056d7a6",
   "metadata": {},
   "outputs": [],
   "source": [
    "animal['털빠짐_score'] = 0\n",
    "animal.loc[animal['털빠짐'] =='많음' , '털빠짐_score'] = 2\n",
    "animal.loc[animal['털빠짐'] =='적음' , '털빠짐_score'] = -2"
   ]
  },
  {
   "cell_type": "markdown",
   "id": "9c1c972b",
   "metadata": {},
   "source": [
    "#### 집지키기 score"
   ]
  },
  {
   "cell_type": "code",
   "execution_count": 272,
   "id": "7567f21a",
   "metadata": {},
   "outputs": [],
   "source": [
    "animal['집지키기'] = animal['집지키기'].astype(str)"
   ]
  },
  {
   "cell_type": "code",
   "execution_count": 273,
   "id": "130b32b4",
   "metadata": {},
   "outputs": [],
   "source": [
    "animal['집지키기_score'] = 0\n",
    "animal.loc[animal['집지키기']== '뛰어남', '집지키기_score'] = 2\n",
    "animal.loc[animal['집지키기']== '보통', '집지키기_score'] = 0\n",
    "animal.loc[animal['집지키기']== '부적절', '집지키기_score'] = -2\n",
    "animal.loc[animal['집지키기']== 'nan', '집지키기_score'] = 0"
   ]
  },
  {
   "cell_type": "markdown",
   "id": "7083d46f",
   "metadata": {},
   "source": [
    "### 품종별 추천성향"
   ]
  },
  {
   "cell_type": "code",
   "execution_count": 274,
   "id": "87df0995",
   "metadata": {},
   "outputs": [],
   "source": [
    "animal['추천성향'] = animal['추천성향'].astype('str')"
   ]
  },
  {
   "cell_type": "markdown",
   "id": "0549b181",
   "metadata": {},
   "source": [
    "#### 1) 운동량"
   ]
  },
  {
   "cell_type": "code",
   "execution_count": 275,
   "id": "a44ef848",
   "metadata": {},
   "outputs": [],
   "source": [
    "exercise_list = []\n",
    "for a in animal['추천성향'] :\n",
    "    if a :\n",
    "        exercise_list.append(a.split(',')[-1])\n",
    "    else :\n",
    "        exercise_list.append('None')\n",
    "        \n",
    "animal['운동량'] = exercise_list"
   ]
  },
  {
   "cell_type": "code",
   "execution_count": 276,
   "id": "9a2d9de3",
   "metadata": {},
   "outputs": [],
   "source": [
    "animal.loc[animal['운동량']=='운동량많음', '운동량'] = 2\n",
    "animal.loc[animal['운동량']=='운동량보통', '운동량'] = 0\n",
    "animal.loc[animal['운동량']=='운동량적음', '운동량'] = -2\n",
    "animal.loc[animal['운동량']=='nan', '운동량'] = 0"
   ]
  },
  {
   "cell_type": "markdown",
   "id": "b365bfae",
   "metadata": {},
   "source": [
    "#### 2) 주택유형"
   ]
  },
  {
   "cell_type": "code",
   "execution_count": 277,
   "id": "f490ab99",
   "metadata": {},
   "outputs": [],
   "source": [
    "house_list = []\n",
    "for a in animal['추천성향'] :\n",
    "    if a :\n",
    "        house_list.append(a.split(',')[0])\n",
    "    else :\n",
    "        house_list.append('None')\n",
    "        \n",
    "animal['주택유형'] = house_list"
   ]
  },
  {
   "cell_type": "code",
   "execution_count": 278,
   "id": "245756b6",
   "metadata": {},
   "outputs": [],
   "source": [
    "animal.loc[animal['주택유형']=='nan', '주택유형'] = '단독주택/전원주택'"
   ]
  },
  {
   "cell_type": "code",
   "execution_count": 279,
   "id": "79931fb7",
   "metadata": {},
   "outputs": [],
   "source": [
    "animal = pd.concat([animal, pd.get_dummies(animal['주택유형'])], axis=1)"
   ]
  },
  {
   "cell_type": "code",
   "execution_count": 280,
   "id": "097b4cd0",
   "metadata": {},
   "outputs": [],
   "source": [
    "# del(animal['nan'])"
   ]
  },
  {
   "cell_type": "markdown",
   "id": "d67f62fa",
   "metadata": {},
   "source": [
    "#### 3) 연령대"
   ]
  },
  {
   "cell_type": "code",
   "execution_count": 281,
   "id": "6a0e8c27",
   "metadata": {},
   "outputs": [],
   "source": [
    "agee_list = []\n",
    "\n",
    "for a in animal['추천성향'] :\n",
    "    \n",
    "    if a :\n",
    "        if len(a.split(',')) == 3 :\n",
    "            agee_list.append(a.split(',')[1])\n",
    "        else :\n",
    "            agee_list.append('None')\n",
    "    else :\n",
    "        agee_list.append('None')\n",
    "        \n",
    "animal['추천연령대'] = agee_list"
   ]
  },
  {
   "cell_type": "code",
   "execution_count": 282,
   "id": "7a86106c",
   "metadata": {},
   "outputs": [
    {
     "data": {
      "text/plain": [
       "젊은층            3462\n",
       "어린이/젊은층/노년층     673\n",
       "젊은층/노년층          37\n",
       "어린이              12\n",
       "Name: 추천연령대, dtype: int64"
      ]
     },
     "execution_count": 282,
     "metadata": {},
     "output_type": "execute_result"
    }
   ],
   "source": [
    "animal.loc[animal['추천연령대']=='None', '추천연령대'] = '젊은층'\n",
    "animal['추천연령대'].value_counts()"
   ]
  },
  {
   "cell_type": "code",
   "execution_count": 283,
   "id": "b5244edb",
   "metadata": {},
   "outputs": [
    {
     "data": {
      "text/html": [
       "<div>\n",
       "<style scoped>\n",
       "    .dataframe tbody tr th:only-of-type {\n",
       "        vertical-align: middle;\n",
       "    }\n",
       "\n",
       "    .dataframe tbody tr th {\n",
       "        vertical-align: top;\n",
       "    }\n",
       "\n",
       "    .dataframe thead th {\n",
       "        text-align: right;\n",
       "    }\n",
       "</style>\n",
       "<table border=\"1\" class=\"dataframe\">\n",
       "  <thead>\n",
       "    <tr style=\"text-align: right;\">\n",
       "      <th></th>\n",
       "      <th>어린이</th>\n",
       "      <th>어린이/젊은층/노년층</th>\n",
       "      <th>젊은층</th>\n",
       "      <th>젊은층/노년층</th>\n",
       "    </tr>\n",
       "  </thead>\n",
       "  <tbody>\n",
       "    <tr>\n",
       "      <th>0</th>\n",
       "      <td>0</td>\n",
       "      <td>1</td>\n",
       "      <td>0</td>\n",
       "      <td>0</td>\n",
       "    </tr>\n",
       "    <tr>\n",
       "      <th>1</th>\n",
       "      <td>0</td>\n",
       "      <td>0</td>\n",
       "      <td>1</td>\n",
       "      <td>0</td>\n",
       "    </tr>\n",
       "    <tr>\n",
       "      <th>2</th>\n",
       "      <td>0</td>\n",
       "      <td>0</td>\n",
       "      <td>1</td>\n",
       "      <td>0</td>\n",
       "    </tr>\n",
       "    <tr>\n",
       "      <th>3</th>\n",
       "      <td>0</td>\n",
       "      <td>1</td>\n",
       "      <td>0</td>\n",
       "      <td>0</td>\n",
       "    </tr>\n",
       "    <tr>\n",
       "      <th>4</th>\n",
       "      <td>0</td>\n",
       "      <td>0</td>\n",
       "      <td>1</td>\n",
       "      <td>0</td>\n",
       "    </tr>\n",
       "    <tr>\n",
       "      <th>...</th>\n",
       "      <td>...</td>\n",
       "      <td>...</td>\n",
       "      <td>...</td>\n",
       "      <td>...</td>\n",
       "    </tr>\n",
       "    <tr>\n",
       "      <th>4179</th>\n",
       "      <td>0</td>\n",
       "      <td>0</td>\n",
       "      <td>1</td>\n",
       "      <td>0</td>\n",
       "    </tr>\n",
       "    <tr>\n",
       "      <th>4180</th>\n",
       "      <td>0</td>\n",
       "      <td>0</td>\n",
       "      <td>1</td>\n",
       "      <td>0</td>\n",
       "    </tr>\n",
       "    <tr>\n",
       "      <th>4181</th>\n",
       "      <td>0</td>\n",
       "      <td>0</td>\n",
       "      <td>1</td>\n",
       "      <td>0</td>\n",
       "    </tr>\n",
       "    <tr>\n",
       "      <th>4182</th>\n",
       "      <td>0</td>\n",
       "      <td>0</td>\n",
       "      <td>1</td>\n",
       "      <td>0</td>\n",
       "    </tr>\n",
       "    <tr>\n",
       "      <th>4183</th>\n",
       "      <td>0</td>\n",
       "      <td>0</td>\n",
       "      <td>1</td>\n",
       "      <td>0</td>\n",
       "    </tr>\n",
       "  </tbody>\n",
       "</table>\n",
       "<p>4184 rows × 4 columns</p>\n",
       "</div>"
      ],
      "text/plain": [
       "      어린이  어린이/젊은층/노년층  젊은층  젊은층/노년층\n",
       "0       0            1    0        0\n",
       "1       0            0    1        0\n",
       "2       0            0    1        0\n",
       "3       0            1    0        0\n",
       "4       0            0    1        0\n",
       "...   ...          ...  ...      ...\n",
       "4179    0            0    1        0\n",
       "4180    0            0    1        0\n",
       "4181    0            0    1        0\n",
       "4182    0            0    1        0\n",
       "4183    0            0    1        0\n",
       "\n",
       "[4184 rows x 4 columns]"
      ]
     },
     "execution_count": 283,
     "metadata": {},
     "output_type": "execute_result"
    }
   ],
   "source": [
    "pd.get_dummies(animal['추천연령대'])"
   ]
  },
  {
   "cell_type": "code",
   "execution_count": 284,
   "id": "c8bea294",
   "metadata": {},
   "outputs": [],
   "source": [
    "animal = pd.concat([animal, pd.get_dummies(animal['추천연령대'])], axis=1)"
   ]
  },
  {
   "cell_type": "code",
   "execution_count": 285,
   "id": "c3782a44",
   "metadata": {},
   "outputs": [],
   "source": [
    "# del(animal['None'])"
   ]
  },
  {
   "cell_type": "markdown",
   "id": "16023058",
   "metadata": {},
   "source": [
    "### 성별"
   ]
  },
  {
   "cell_type": "code",
   "execution_count": 286,
   "id": "40368a55",
   "metadata": {},
   "outputs": [],
   "source": [
    "animal = pd.concat([animal, pd.get_dummies(animal['성별'])], axis=1)"
   ]
  },
  {
   "cell_type": "markdown",
   "id": "2f6bd351",
   "metadata": {},
   "source": [
    "### 중성화"
   ]
  },
  {
   "cell_type": "code",
   "execution_count": 287,
   "id": "a2c09e86",
   "metadata": {},
   "outputs": [],
   "source": [
    "animal = pd.concat([animal, pd.get_dummies(animal['중성화여부'])], axis=1)"
   ]
  },
  {
   "cell_type": "code",
   "execution_count": 288,
   "id": "4761154b",
   "metadata": {},
   "outputs": [],
   "source": [
    "animal.to_csv('../data/정리/강아지(221028).csv')"
   ]
  },
  {
   "cell_type": "code",
   "execution_count": null,
   "id": "d7980e0f",
   "metadata": {},
   "outputs": [],
   "source": []
  },
  {
   "cell_type": "code",
   "execution_count": null,
   "id": "020dcc77",
   "metadata": {},
   "outputs": [],
   "source": []
  },
  {
   "cell_type": "code",
   "execution_count": null,
   "id": "ac829ca5",
   "metadata": {},
   "outputs": [],
   "source": []
  },
  {
   "cell_type": "code",
   "execution_count": null,
   "id": "ad713613",
   "metadata": {},
   "outputs": [],
   "source": []
  }
 ],
 "metadata": {
  "kernelspec": {
   "display_name": "Python 3 (ipykernel)",
   "language": "python",
   "name": "python3"
  },
  "language_info": {
   "codemirror_mode": {
    "name": "ipython",
    "version": 3
   },
   "file_extension": ".py",
   "mimetype": "text/x-python",
   "name": "python",
   "nbconvert_exporter": "python",
   "pygments_lexer": "ipython3",
   "version": "3.9.12"
  }
 },
 "nbformat": 4,
 "nbformat_minor": 5
}
